{
 "cells": [
  {
   "cell_type": "code",
   "execution_count": 1,
   "id": "7665a7c8",
   "metadata": {},
   "outputs": [],
   "source": [
    "with open('smartprix.html','r',encoding='utf-8') as f:\n",
    "    html = f.read()"
   ]
  },
  {
   "cell_type": "code",
   "execution_count": 2,
   "id": "2d809e38",
   "metadata": {},
   "outputs": [],
   "source": [
    "from bs4 import BeautifulSoup\n",
    "import numpy as np\n",
    "import pandas as pd"
   ]
  },
  {
   "cell_type": "code",
   "execution_count": 3,
   "id": "0b2acb7a",
   "metadata": {},
   "outputs": [],
   "source": [
    "soup = BeautifulSoup(html, 'lxml')"
   ]
  },
  {
   "cell_type": "code",
   "execution_count": 6,
   "id": "9f9625e7",
   "metadata": {},
   "outputs": [],
   "source": [
    "containers = soup.find_all('div',{'class':'sm-product has-tag has-features has-actions'})"
   ]
  },
  {
   "cell_type": "code",
   "execution_count": 8,
   "id": "3658eb4c",
   "metadata": {},
   "outputs": [],
   "source": [
    "names = []\n",
    "prices = []\n",
    "ratings = []\n",
    "sim = []\n",
    "processor = []\n",
    "ram = []\n",
    "battery =[]\n",
    "display = []\n",
    "camera = []\n",
    "card = []\n",
    "os = []\n",
    "\n",
    "for i in soup.find_all('div',{'class':'sm-product has-tag has-features has-actions'}):\n",
    "    try:\n",
    "        names.append(i.find('h2').text)\n",
    "    except:\n",
    "        names.append(np.nan)\n",
    "    try:\n",
    "        prices.append(i.find('span',{'class':'price'}).text)\n",
    "    except:\n",
    "        prices.append(np.nan)\n",
    "    try:\n",
    "        ratings.append(i.find('div',{'class':'score rank-2-bg'}).find('b').text)\n",
    "    except:\n",
    "        ratings.append(np.nan)\n",
    "        \n",
    "    x= i.find('ul',{'class':'sm-feat specs'}).find_all('li')\n",
    "    try:\n",
    "        sim.append(x[0].text)\n",
    "    except:\n",
    "        sim.append(np.nan)\n",
    "    try:\n",
    "        processor.append(x[1].text)\n",
    "    except:\n",
    "        processor.append(np.nan)\n",
    "    try:    \n",
    "        ram.append(x[2].text)\n",
    "    except:\n",
    "        ram.append(np.nan)\n",
    "    try:\n",
    "        battery.append(x[3].text)\n",
    "    except:\n",
    "        battery.append(np.nan)\n",
    "    try:\n",
    "        display.append(x[4].text)\n",
    "    except:\n",
    "        display.append(np.nan)\n",
    "    try:\n",
    "        camera.append(x[5].text)\n",
    "    except:\n",
    "        camera.append(np.nan)\n",
    "    try:\n",
    "        card.append(x[6].text)\n",
    "    except:\n",
    "        card.append(np.nan)\n",
    "    try:\n",
    "        os.append(x[7].text)\n",
    "    except:\n",
    "        os.append(np.nan)\n",
    "        "
   ]
  },
  {
   "cell_type": "code",
   "execution_count": 10,
   "id": "64192bef",
   "metadata": {},
   "outputs": [
    {
     "data": {
      "text/plain": [
       "1020"
      ]
     },
     "execution_count": 10,
     "metadata": {},
     "output_type": "execute_result"
    }
   ],
   "source": [
    "len(names)"
   ]
  },
  {
   "cell_type": "code",
   "execution_count": 11,
   "id": "a7a0b405",
   "metadata": {},
   "outputs": [
    {
     "data": {
      "text/plain": [
       "1020"
      ]
     },
     "execution_count": 11,
     "metadata": {},
     "output_type": "execute_result"
    }
   ],
   "source": [
    "len(prices)"
   ]
  },
  {
   "cell_type": "code",
   "execution_count": 13,
   "id": "5ce4fd3c",
   "metadata": {},
   "outputs": [
    {
     "data": {
      "text/plain": [
       "1020"
      ]
     },
     "execution_count": 13,
     "metadata": {},
     "output_type": "execute_result"
    }
   ],
   "source": [
    "len(ratings)"
   ]
  },
  {
   "cell_type": "code",
   "execution_count": 14,
   "id": "e6b5f16f",
   "metadata": {},
   "outputs": [],
   "source": [
    "df = pd.DataFrame({\n",
    "    'model': names,\n",
    "    'price': prices,\n",
    "    'rating': ratings\n",
    "})"
   ]
  },
  {
   "cell_type": "code",
   "execution_count": 16,
   "id": "bfb0c2e7",
   "metadata": {},
   "outputs": [
    {
     "data": {
      "text/plain": [
       "model       0\n",
       "price       0\n",
       "rating    227\n",
       "dtype: int64"
      ]
     },
     "execution_count": 16,
     "metadata": {},
     "output_type": "execute_result"
    }
   ],
   "source": [
    "df.isnull().sum()"
   ]
  },
  {
   "cell_type": "code",
   "execution_count": 18,
   "id": "f89f9b60",
   "metadata": {},
   "outputs": [],
   "source": [
    "df = pd.DataFrame({\n",
    "    'model':names,\n",
    "    'price':prices,\n",
    "    'rating':ratings,\n",
    "    'sim':sim,\n",
    "    'processor':processor,\n",
    "    'ram':ram,\n",
    "    'battery':battery,\n",
    "    'display':display,\n",
    "    'camera':camera,\n",
    "    'card':card,\n",
    "    'os':os\n",
    "})"
   ]
  },
  {
   "cell_type": "code",
   "execution_count": 19,
   "id": "c37f8c56",
   "metadata": {},
   "outputs": [
    {
     "data": {
      "text/html": [
       "<div>\n",
       "<style scoped>\n",
       "    .dataframe tbody tr th:only-of-type {\n",
       "        vertical-align: middle;\n",
       "    }\n",
       "\n",
       "    .dataframe tbody tr th {\n",
       "        vertical-align: top;\n",
       "    }\n",
       "\n",
       "    .dataframe thead th {\n",
       "        text-align: right;\n",
       "    }\n",
       "</style>\n",
       "<table border=\"1\" class=\"dataframe\">\n",
       "  <thead>\n",
       "    <tr style=\"text-align: right;\">\n",
       "      <th></th>\n",
       "      <th>model</th>\n",
       "      <th>price</th>\n",
       "      <th>rating</th>\n",
       "      <th>sim</th>\n",
       "      <th>processor</th>\n",
       "      <th>ram</th>\n",
       "      <th>battery</th>\n",
       "      <th>display</th>\n",
       "      <th>camera</th>\n",
       "      <th>card</th>\n",
       "      <th>os</th>\n",
       "    </tr>\n",
       "  </thead>\n",
       "  <tbody>\n",
       "    <tr>\n",
       "      <th>0</th>\n",
       "      <td>OnePlus Nord CE 2 Lite 5G</td>\n",
       "      <td>₹18,999</td>\n",
       "      <td>81</td>\n",
       "      <td>Dual Sim, 3G, 4G, 5G, VoLTE, Wi-Fi</td>\n",
       "      <td>Snapdragon 695, Octa Core, 2.2 GHz Processor</td>\n",
       "      <td>6 GB RAM, 128 GB inbuilt</td>\n",
       "      <td>5000 mAh Battery with 33W Fast Charging</td>\n",
       "      <td>6.59 inches, 1080 x 2412 px, 120 Hz Display wi...</td>\n",
       "      <td>64 MP + 2 MP + 2 MP Triple Rear &amp; 16 MP Front ...</td>\n",
       "      <td>Memory Card (Hybrid), upto 1 TB</td>\n",
       "      <td>Android v12</td>\n",
       "    </tr>\n",
       "    <tr>\n",
       "      <th>1</th>\n",
       "      <td>Samsung Galaxy A14 5G</td>\n",
       "      <td>₹16,499</td>\n",
       "      <td>75</td>\n",
       "      <td>Dual Sim, 3G, 4G, 5G, VoLTE, Wi-Fi</td>\n",
       "      <td>Exynos 1330, Octa Core, 2.4 GHz Processor</td>\n",
       "      <td>4 GB RAM, 64 GB inbuilt</td>\n",
       "      <td>5000 mAh Battery with 15W Fast Charging</td>\n",
       "      <td>6.6 inches, 1080 x 2408 px, 90 Hz Display with...</td>\n",
       "      <td>50 MP + 2 MP + 2 MP Triple Rear &amp; 13 MP Front ...</td>\n",
       "      <td>Memory Card Supported, upto 1 TB</td>\n",
       "      <td>Android v13</td>\n",
       "    </tr>\n",
       "    <tr>\n",
       "      <th>2</th>\n",
       "      <td>Samsung Galaxy F23 5G (6GB RAM + 128GB)</td>\n",
       "      <td>₹16,999</td>\n",
       "      <td>80</td>\n",
       "      <td>Dual Sim, 3G, 4G, 5G, VoLTE, Wi-Fi, NFC</td>\n",
       "      <td>Snapdragon  750G, Octa Core, 2.2 GHz Processor</td>\n",
       "      <td>6 GB RAM, 128 GB inbuilt</td>\n",
       "      <td>5000 mAh Battery with 25W Fast Charging</td>\n",
       "      <td>6.6 inches, 1080 x 2408 px, 120 Hz Display wit...</td>\n",
       "      <td>50 MP + 8 MP + 2 MP Triple Rear &amp; 8 MP Front C...</td>\n",
       "      <td>Memory Card Supported, upto 1 TB</td>\n",
       "      <td>Android v12</td>\n",
       "    </tr>\n",
       "    <tr>\n",
       "      <th>3</th>\n",
       "      <td>Motorola Moto G62 5G</td>\n",
       "      <td>₹14,999</td>\n",
       "      <td>81</td>\n",
       "      <td>Dual Sim, 3G, 4G, 5G, VoLTE, Wi-Fi</td>\n",
       "      <td>Snapdragon  695, Octa Core, 2.2 GHz Processor</td>\n",
       "      <td>6 GB RAM, 128 GB inbuilt</td>\n",
       "      <td>5000 mAh Battery with Fast Charging</td>\n",
       "      <td>6.55 inches, 1080 x 2400 px, 120 Hz Display wi...</td>\n",
       "      <td>50 MP + 8 MP + 2 MP Triple Rear &amp; 16 MP Front ...</td>\n",
       "      <td>Memory Card (Hybrid), upto 1 TB</td>\n",
       "      <td>Android v12</td>\n",
       "    </tr>\n",
       "    <tr>\n",
       "      <th>4</th>\n",
       "      <td>Realme 10 Pro Plus</td>\n",
       "      <td>₹24,999</td>\n",
       "      <td>82</td>\n",
       "      <td>Dual Sim, 3G, 4G, 5G, VoLTE, Wi-Fi</td>\n",
       "      <td>Dimensity 1080, Octa Core, 2.6 GHz Processor</td>\n",
       "      <td>6 GB RAM, 128 GB inbuilt</td>\n",
       "      <td>5000 mAh Battery with 67W Fast Charging</td>\n",
       "      <td>6.7 inches, 1080 x 2412 px, 120 Hz Display wit...</td>\n",
       "      <td>108 MP + 8 MP + 2 MP Triple Rear &amp; 16 MP Front...</td>\n",
       "      <td>Memory Card Not Supported</td>\n",
       "      <td>Android v13</td>\n",
       "    </tr>\n",
       "  </tbody>\n",
       "</table>\n",
       "</div>"
      ],
      "text/plain": [
       "                                     model    price rating  \\\n",
       "0                OnePlus Nord CE 2 Lite 5G  ₹18,999     81   \n",
       "1                    Samsung Galaxy A14 5G  ₹16,499     75   \n",
       "2  Samsung Galaxy F23 5G (6GB RAM + 128GB)  ₹16,999     80   \n",
       "3                     Motorola Moto G62 5G  ₹14,999     81   \n",
       "4                       Realme 10 Pro Plus  ₹24,999     82   \n",
       "\n",
       "                                       sim  \\\n",
       "0       Dual Sim, 3G, 4G, 5G, VoLTE, Wi-Fi   \n",
       "1       Dual Sim, 3G, 4G, 5G, VoLTE, Wi-Fi   \n",
       "2  Dual Sim, 3G, 4G, 5G, VoLTE, Wi-Fi, NFC   \n",
       "3       Dual Sim, 3G, 4G, 5G, VoLTE, Wi-Fi   \n",
       "4       Dual Sim, 3G, 4G, 5G, VoLTE, Wi-Fi   \n",
       "\n",
       "                                        processor                       ram  \\\n",
       "0    Snapdragon 695, Octa Core, 2.2 GHz Processor  6 GB RAM, 128 GB inbuilt   \n",
       "1       Exynos 1330, Octa Core, 2.4 GHz Processor   4 GB RAM, 64 GB inbuilt   \n",
       "2  Snapdragon  750G, Octa Core, 2.2 GHz Processor  6 GB RAM, 128 GB inbuilt   \n",
       "3   Snapdragon  695, Octa Core, 2.2 GHz Processor  6 GB RAM, 128 GB inbuilt   \n",
       "4    Dimensity 1080, Octa Core, 2.6 GHz Processor  6 GB RAM, 128 GB inbuilt   \n",
       "\n",
       "                                   battery  \\\n",
       "0  5000 mAh Battery with 33W Fast Charging   \n",
       "1  5000 mAh Battery with 15W Fast Charging   \n",
       "2  5000 mAh Battery with 25W Fast Charging   \n",
       "3      5000 mAh Battery with Fast Charging   \n",
       "4  5000 mAh Battery with 67W Fast Charging   \n",
       "\n",
       "                                             display  \\\n",
       "0  6.59 inches, 1080 x 2412 px, 120 Hz Display wi...   \n",
       "1  6.6 inches, 1080 x 2408 px, 90 Hz Display with...   \n",
       "2  6.6 inches, 1080 x 2408 px, 120 Hz Display wit...   \n",
       "3  6.55 inches, 1080 x 2400 px, 120 Hz Display wi...   \n",
       "4  6.7 inches, 1080 x 2412 px, 120 Hz Display wit...   \n",
       "\n",
       "                                              camera  \\\n",
       "0  64 MP + 2 MP + 2 MP Triple Rear & 16 MP Front ...   \n",
       "1  50 MP + 2 MP + 2 MP Triple Rear & 13 MP Front ...   \n",
       "2  50 MP + 8 MP + 2 MP Triple Rear & 8 MP Front C...   \n",
       "3  50 MP + 8 MP + 2 MP Triple Rear & 16 MP Front ...   \n",
       "4  108 MP + 8 MP + 2 MP Triple Rear & 16 MP Front...   \n",
       "\n",
       "                               card           os  \n",
       "0   Memory Card (Hybrid), upto 1 TB  Android v12  \n",
       "1  Memory Card Supported, upto 1 TB  Android v13  \n",
       "2  Memory Card Supported, upto 1 TB  Android v12  \n",
       "3   Memory Card (Hybrid), upto 1 TB  Android v12  \n",
       "4         Memory Card Not Supported  Android v13  "
      ]
     },
     "execution_count": 19,
     "metadata": {},
     "output_type": "execute_result"
    }
   ],
   "source": [
    "df.head()"
   ]
  }
 ],
 "metadata": {
  "kernelspec": {
   "display_name": "Python 3 (ipykernel)",
   "language": "python",
   "name": "python3"
  },
  "language_info": {
   "codemirror_mode": {
    "name": "ipython",
    "version": 3
   },
   "file_extension": ".py",
   "mimetype": "text/x-python",
   "name": "python",
   "nbconvert_exporter": "python",
   "pygments_lexer": "ipython3",
   "version": "3.11.5"
  }
 },
 "nbformat": 4,
 "nbformat_minor": 5
}
